{
 "cells": [
  {
   "cell_type": "markdown",
   "metadata": {},
   "source": [
    "<h1>Table of Contents<span class=\"tocSkip\"></span></h1>\n",
    "<div class=\"toc\"><ul class=\"toc-item\"><li><span><a href=\"#Strings\" data-toc-\n",
    "modified-id=\"Strings-1\"><span class=\"toc-item-\n",
    "num\">1&nbsp;&nbsp;</span>Strings</a></span><ul class=\"toc-item\"><li><span><a\n",
    "href=\"#Conceptual-Definition\" data-toc-modified-id=\"Conceptual-\n",
    "Definition-1.1\"><span class=\"toc-item-num\">1.1&nbsp;&nbsp;</span>Conceptual\n",
    "Definition</a></span></li><li><span><a href=\"#Basics-of-strings\" data-toc-\n",
    "modified-id=\"Basics-of-strings-1.2\"><span class=\"toc-item-\n",
    "num\">1.2&nbsp;&nbsp;</span>Basics of strings</a></span></li><li><span><a\n",
    "href=\"#Basics-of-strings-(contd.)\" data-toc-modified-id=\"Basics-of-\n",
    "strings-(contd.)-1.3\"><span class=\"toc-item-num\">1.3&nbsp;&nbsp;</span>Basics of\n",
    "strings (contd.)</a></span></li></ul></li></ul></div>\n",
    "\n",
    "# Strings\n",
    "\n",
    "## Conceptual Definition\n",
    "Though we usually turn to computers to work with numbers, we can also use them\n",
    "to work with alphabets, symbols, and/or numbers- in other words, a sequence of\n",
    "various characters that are are formally called _strings_.\n",
    "\n",
    "## Basics of strings\n",
    "Python, like most programming languages, can manipulate strings. Strings can\n",
    "be enclosed in single quotes (`'...'`) or double quotes (`\"...\"`) with the\n",
    "same result. For example:"
   ]
  },
  {
   "cell_type": "code",
   "execution_count": null,
   "metadata": {},
   "outputs": [],
   "source": [
    "'spam eggs'  # Single quotes."
   ]
  },
  {
   "cell_type": "markdown",
   "metadata": {},
   "source": [
    "If you need to use a quote within the string itself, (e.g., to write words\n",
    "involving apostrophes), then do one of the following:"
   ]
  },
  {
   "cell_type": "code",
   "execution_count": null,
   "metadata": {},
   "outputs": [],
   "source": [
    "'doesn\\'t'  # Use \\' to escape the single quote..."
   ]
  },
  {
   "cell_type": "markdown",
   "metadata": {},
   "source": [
    "or"
   ]
  },
  {
   "cell_type": "code",
   "execution_count": null,
   "metadata": {},
   "outputs": [],
   "source": [
    "\"doesn't\"  # ...or use double quotes instead."
   ]
  },
  {
   "cell_type": "markdown",
   "metadata": {},
   "source": [
    "This use of backslash (`\\`) allows one to *escape quotes* for all special\n",
    "characters.\n",
    "This is sufficient for us to work with [the Vectors\n",
    "Tutorial](Vectors.ipynb).\n",
    "\n",
    "## Basics of strings (contd.)\n",
    "In the Jupyter notebooks, the output string is enclosed in quotes. The string is\n",
    "enclosed in double quotes\n",
    "if the string contains a single quote and no double quotes, otherwise it's\n",
    "enclosed in single quotes. The\n",
    "[`print()`](https://docs.python.org/3.6/library/functions.html#print) function\n",
    "produces a more readable output by omitting the enclosing quotes and by printing\n",
    "escaped and special characters:"
   ]
  },
  {
   "cell_type": "code",
   "execution_count": null,
   "metadata": {},
   "outputs": [],
   "source": [
    "'\"Isn\\'t,\" she said.'"
   ]
  },
  {
   "cell_type": "code",
   "execution_count": null,
   "metadata": {},
   "outputs": [],
   "source": [
    "print('\"Isn\\'t,\" she said.')"
   ]
  },
  {
   "cell_type": "code",
   "execution_count": null,
   "metadata": {},
   "outputs": [],
   "source": [
    "s = 'First line.\\nSecond line.'  # \\n means newline.\n",
    "print(s)  # With print(), \\n produces a new line."
   ]
  },
  {
   "cell_type": "markdown",
   "metadata": {},
   "source": [
    "If you don't want escaped characters (prefaced by `\\`) to be interpreted as\n",
    "special characters, use *raw strings* by adding an `r` before the first quote:"
   ]
  },
  {
   "cell_type": "code",
   "execution_count": null,
   "metadata": {},
   "outputs": [],
   "source": [
    "print('C:\\some\\name')  # Here \\n means newline!"
   ]
  },
  {
   "cell_type": "code",
   "execution_count": null,
   "metadata": {},
   "outputs": [],
   "source": [
    "print(r'C:\\some\\name')  # Note the r before the quote."
   ]
  }
 ],
 "metadata": {},
 "nbformat": 4,
 "nbformat_minor": 4
}
