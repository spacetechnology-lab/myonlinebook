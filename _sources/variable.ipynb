{
 "cells": [
  {
   "cell_type": "markdown",
   "metadata": {},
   "source": [
    "<h1>Table of Contents<span class=\"tocSkip\"></span></h1>\n",
    "<div class=\"toc\"><ul class=\"toc-item\"><li><span><a href=\"#How-to-interact-with-\n",
    "this-tutorial\" data-toc-modified-id=\"How-to-interact-with-this-tutorial-1\"><span\n",
    "class=\"toc-item-num\">1&nbsp;&nbsp;</span>How to interact with this\n",
    "tutorial</a></span></li><li><span><a href=\"#Variable\" data-toc-modified-\n",
    "id=\"Variable-2\"><span class=\"toc-item-\n",
    "num\">2&nbsp;&nbsp;</span>Variable</a></span><ul class=\"toc-item\"><li><span><a\n",
    "href=\"#Concept-and-Implementation\" data-toc-modified-id=\"Concept-and-\n",
    "Implementation-2.1\"><span class=\"toc-item-num\">2.1&nbsp;&nbsp;</span>Concept and\n",
    "Implementation</a></span></li><li><span><a href=\"#Definition\" data-toc-modified-\n",
    "id=\"Definition-2.2\"><span class=\"toc-item-\n",
    "num\">2.2&nbsp;&nbsp;</span>Definition</a></span></li></ul></li></ul></div>\n",
    "\n",
    "# Variable\n",
    "\n",
    "## How to interact with this tutorial\n",
    "\n",
    "Execute a code cell (the bounded rectangular block that has In[] written to it's\n",
    "left) by clicking on it\n",
    "and simultaneously pressing 'Shift+Enter'.\n",
    "\n",
    "## Concept and Implementation\n",
    "In the following cell, enter a 6-digit number."
   ]
  },
  {
   "cell_type": "code",
   "execution_count": null,
   "metadata": {
    "attributes": {
     "classes": [
      "py"
     ],
     "id": ""
    }
   },
   "outputs": [],
   "source": [
    "#Enter some number below"
   ]
  },
  {
   "cell_type": "markdown",
   "metadata": {},
   "source": [
    "In the following cell, enter another 6-digit number."
   ]
  },
  {
   "cell_type": "code",
   "execution_count": null,
   "metadata": {
    "attributes": {
     "classes": [
      "py"
     ],
     "id": ""
    }
   },
   "outputs": [],
   "source": [
    "#Enter some number below"
   ]
  },
  {
   "cell_type": "markdown",
   "metadata": {},
   "source": [
    "In the cell below, add these numbers."
   ]
  },
  {
   "cell_type": "code",
   "execution_count": null,
   "metadata": {
    "attributes": {
     "classes": [
      "py"
     ],
     "id": ""
    }
   },
   "outputs": [],
   "source": [
    "#Enter some number below"
   ]
  },
  {
   "cell_type": "markdown",
   "metadata": {},
   "source": [
    "Now multiply the same two numbers."
   ]
  },
  {
   "cell_type": "code",
   "execution_count": null,
   "metadata": {
    "attributes": {
     "classes": [
      "py"
     ],
     "id": ""
    }
   },
   "outputs": [],
   "source": [
    "#Enter some number below"
   ]
  },
  {
   "cell_type": "markdown",
   "metadata": {},
   "source": [
    "Now, divide the same two numbers."
   ]
  },
  {
   "cell_type": "code",
   "execution_count": null,
   "metadata": {
    "attributes": {
     "classes": [
      "py"
     ],
     "id": ""
    }
   },
   "outputs": [],
   "source": [
    "#Enter some number below"
   ]
  },
  {
   "cell_type": "markdown",
   "metadata": {},
   "source": [
    "Gets quite boring and also tedious to keep rewriting these numbers over and over\n",
    "again, right? So you think to yourself: ''surely, computer peoples must have\n",
    "found a better way to handle this stuff?'' And, yes, they have! This is done by\n",
    "storing the numbers using some what is called a variable."
   ]
  },
  {
   "cell_type": "code",
   "execution_count": null,
   "metadata": {
    "attributes": {
     "classes": [
      "py"
     ],
     "id": ""
    }
   },
   "outputs": [],
   "source": [
    "#Enter some number below\n",
    "a = 123456\n",
    "b = 123455"
   ]
  },
  {
   "cell_type": "markdown",
   "metadata": {},
   "source": [
    "Now, you can repeat the above algebra operations more conveniently. Now, we can\n",
    "present a more formal definition of a variable.\n",
    "\n",
    "<a id=’definition’></a>\n",
    "## Definition\n",
    "A variable is a reserved memory location to store values. In other words, a\n",
    "variable in a python program gives data to the computer for processing.\n",
    "\n",
    "This is sufficient for us to work with [the Vectors\n",
    "Tutorial](Vectors.ipynb)."
   ]
  }
 ],
 "metadata": {},
 "nbformat": 4,
 "nbformat_minor": 4
}
